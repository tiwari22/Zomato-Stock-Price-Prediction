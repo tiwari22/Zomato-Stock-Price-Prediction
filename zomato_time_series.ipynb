{
  "nbformat": 4,
  "nbformat_minor": 0,
  "metadata": {
    "colab": {
      "name": "zomato_time_series.ipynb",
      "provenance": []
    },
    "kernelspec": {
      "name": "python3",
      "display_name": "Python 3"
    },
    "language_info": {
      "name": "python"
    }
  },
  "cells": [
    {
      "cell_type": "code",
      "execution_count": 84,
      "metadata": {
        "id": "O3x71ZjPCjwx"
      },
      "outputs": [],
      "source": [
        "import pandas as pd\n",
        "import numpy as np\n",
        "import matplotlib.pyplot as plt\n",
        "\n",
        "import tensorflow as tf\n",
        "from tensorflow.keras import layers\n",
        "\n",
        "from sklearn.metrics import mean_absolute_error, mean_squared_error\n",
        "from numpy import sqrt"
      ]
    },
    {
      "cell_type": "code",
      "source": [
        "dataset = pd.read_csv(\"zomato.csv\")"
      ],
      "metadata": {
        "id": "XCVB9YkFDTY3"
      },
      "execution_count": 46,
      "outputs": []
    },
    {
      "cell_type": "code",
      "source": [
        "dataset.head(10)"
      ],
      "metadata": {
        "colab": {
          "base_uri": "https://localhost:8080/",
          "height": 363
        },
        "id": "EgeEKY-xEOey",
        "outputId": "101d665e-ef89-4640-e0d7-4a070328d506"
      },
      "execution_count": 47,
      "outputs": [
        {
          "output_type": "execute_result",
          "data": {
            "text/plain": [
              "         Date        Open        High         Low       Close   Adj Close  \\\n",
              "0  2021-08-24  127.250000  127.949997  120.500000  125.000000  125.000000   \n",
              "1  2021-08-25  126.000000  128.500000  123.099998  124.250000  124.250000   \n",
              "2  2021-08-26  125.250000  127.150002  124.349998  125.849998  125.849998   \n",
              "3  2021-08-27  126.599998  129.500000  124.099998  124.699997  124.699997   \n",
              "4  2021-08-30  127.849998  135.449997  127.550003  133.550003  133.550003   \n",
              "5  2021-08-31  134.000000  135.199997  131.350006  134.550003  134.550003   \n",
              "6  2021-09-01  134.550003  135.100006  130.699997  132.600006  132.600006   \n",
              "7  2021-09-02  132.000000  138.500000  131.500000  137.600006  137.600006   \n",
              "8  2021-09-03  135.949997  151.399994  135.600006  149.750000  149.750000   \n",
              "9  2021-09-06  149.250000  149.350006  143.250000  144.050003  144.050003   \n",
              "\n",
              "      Volume  \n",
              "0   56713556  \n",
              "1   51078811  \n",
              "2   20645403  \n",
              "3   22227595  \n",
              "4   45239080  \n",
              "5   24640924  \n",
              "6   16162269  \n",
              "7   27882466  \n",
              "8  113381518  \n",
              "9   34811620  "
            ],
            "text/html": [
              "\n",
              "  <div id=\"df-9dd6ba49-575f-4435-8783-5f491751af59\">\n",
              "    <div class=\"colab-df-container\">\n",
              "      <div>\n",
              "<style scoped>\n",
              "    .dataframe tbody tr th:only-of-type {\n",
              "        vertical-align: middle;\n",
              "    }\n",
              "\n",
              "    .dataframe tbody tr th {\n",
              "        vertical-align: top;\n",
              "    }\n",
              "\n",
              "    .dataframe thead th {\n",
              "        text-align: right;\n",
              "    }\n",
              "</style>\n",
              "<table border=\"1\" class=\"dataframe\">\n",
              "  <thead>\n",
              "    <tr style=\"text-align: right;\">\n",
              "      <th></th>\n",
              "      <th>Date</th>\n",
              "      <th>Open</th>\n",
              "      <th>High</th>\n",
              "      <th>Low</th>\n",
              "      <th>Close</th>\n",
              "      <th>Adj Close</th>\n",
              "      <th>Volume</th>\n",
              "    </tr>\n",
              "  </thead>\n",
              "  <tbody>\n",
              "    <tr>\n",
              "      <th>0</th>\n",
              "      <td>2021-08-24</td>\n",
              "      <td>127.250000</td>\n",
              "      <td>127.949997</td>\n",
              "      <td>120.500000</td>\n",
              "      <td>125.000000</td>\n",
              "      <td>125.000000</td>\n",
              "      <td>56713556</td>\n",
              "    </tr>\n",
              "    <tr>\n",
              "      <th>1</th>\n",
              "      <td>2021-08-25</td>\n",
              "      <td>126.000000</td>\n",
              "      <td>128.500000</td>\n",
              "      <td>123.099998</td>\n",
              "      <td>124.250000</td>\n",
              "      <td>124.250000</td>\n",
              "      <td>51078811</td>\n",
              "    </tr>\n",
              "    <tr>\n",
              "      <th>2</th>\n",
              "      <td>2021-08-26</td>\n",
              "      <td>125.250000</td>\n",
              "      <td>127.150002</td>\n",
              "      <td>124.349998</td>\n",
              "      <td>125.849998</td>\n",
              "      <td>125.849998</td>\n",
              "      <td>20645403</td>\n",
              "    </tr>\n",
              "    <tr>\n",
              "      <th>3</th>\n",
              "      <td>2021-08-27</td>\n",
              "      <td>126.599998</td>\n",
              "      <td>129.500000</td>\n",
              "      <td>124.099998</td>\n",
              "      <td>124.699997</td>\n",
              "      <td>124.699997</td>\n",
              "      <td>22227595</td>\n",
              "    </tr>\n",
              "    <tr>\n",
              "      <th>4</th>\n",
              "      <td>2021-08-30</td>\n",
              "      <td>127.849998</td>\n",
              "      <td>135.449997</td>\n",
              "      <td>127.550003</td>\n",
              "      <td>133.550003</td>\n",
              "      <td>133.550003</td>\n",
              "      <td>45239080</td>\n",
              "    </tr>\n",
              "    <tr>\n",
              "      <th>5</th>\n",
              "      <td>2021-08-31</td>\n",
              "      <td>134.000000</td>\n",
              "      <td>135.199997</td>\n",
              "      <td>131.350006</td>\n",
              "      <td>134.550003</td>\n",
              "      <td>134.550003</td>\n",
              "      <td>24640924</td>\n",
              "    </tr>\n",
              "    <tr>\n",
              "      <th>6</th>\n",
              "      <td>2021-09-01</td>\n",
              "      <td>134.550003</td>\n",
              "      <td>135.100006</td>\n",
              "      <td>130.699997</td>\n",
              "      <td>132.600006</td>\n",
              "      <td>132.600006</td>\n",
              "      <td>16162269</td>\n",
              "    </tr>\n",
              "    <tr>\n",
              "      <th>7</th>\n",
              "      <td>2021-09-02</td>\n",
              "      <td>132.000000</td>\n",
              "      <td>138.500000</td>\n",
              "      <td>131.500000</td>\n",
              "      <td>137.600006</td>\n",
              "      <td>137.600006</td>\n",
              "      <td>27882466</td>\n",
              "    </tr>\n",
              "    <tr>\n",
              "      <th>8</th>\n",
              "      <td>2021-09-03</td>\n",
              "      <td>135.949997</td>\n",
              "      <td>151.399994</td>\n",
              "      <td>135.600006</td>\n",
              "      <td>149.750000</td>\n",
              "      <td>149.750000</td>\n",
              "      <td>113381518</td>\n",
              "    </tr>\n",
              "    <tr>\n",
              "      <th>9</th>\n",
              "      <td>2021-09-06</td>\n",
              "      <td>149.250000</td>\n",
              "      <td>149.350006</td>\n",
              "      <td>143.250000</td>\n",
              "      <td>144.050003</td>\n",
              "      <td>144.050003</td>\n",
              "      <td>34811620</td>\n",
              "    </tr>\n",
              "  </tbody>\n",
              "</table>\n",
              "</div>\n",
              "      <button class=\"colab-df-convert\" onclick=\"convertToInteractive('df-9dd6ba49-575f-4435-8783-5f491751af59')\"\n",
              "              title=\"Convert this dataframe to an interactive table.\"\n",
              "              style=\"display:none;\">\n",
              "        \n",
              "  <svg xmlns=\"http://www.w3.org/2000/svg\" height=\"24px\"viewBox=\"0 0 24 24\"\n",
              "       width=\"24px\">\n",
              "    <path d=\"M0 0h24v24H0V0z\" fill=\"none\"/>\n",
              "    <path d=\"M18.56 5.44l.94 2.06.94-2.06 2.06-.94-2.06-.94-.94-2.06-.94 2.06-2.06.94zm-11 1L8.5 8.5l.94-2.06 2.06-.94-2.06-.94L8.5 2.5l-.94 2.06-2.06.94zm10 10l.94 2.06.94-2.06 2.06-.94-2.06-.94-.94-2.06-.94 2.06-2.06.94z\"/><path d=\"M17.41 7.96l-1.37-1.37c-.4-.4-.92-.59-1.43-.59-.52 0-1.04.2-1.43.59L10.3 9.45l-7.72 7.72c-.78.78-.78 2.05 0 2.83L4 21.41c.39.39.9.59 1.41.59.51 0 1.02-.2 1.41-.59l7.78-7.78 2.81-2.81c.8-.78.8-2.07 0-2.86zM5.41 20L4 18.59l7.72-7.72 1.47 1.35L5.41 20z\"/>\n",
              "  </svg>\n",
              "      </button>\n",
              "      \n",
              "  <style>\n",
              "    .colab-df-container {\n",
              "      display:flex;\n",
              "      flex-wrap:wrap;\n",
              "      gap: 12px;\n",
              "    }\n",
              "\n",
              "    .colab-df-convert {\n",
              "      background-color: #E8F0FE;\n",
              "      border: none;\n",
              "      border-radius: 50%;\n",
              "      cursor: pointer;\n",
              "      display: none;\n",
              "      fill: #1967D2;\n",
              "      height: 32px;\n",
              "      padding: 0 0 0 0;\n",
              "      width: 32px;\n",
              "    }\n",
              "\n",
              "    .colab-df-convert:hover {\n",
              "      background-color: #E2EBFA;\n",
              "      box-shadow: 0px 1px 2px rgba(60, 64, 67, 0.3), 0px 1px 3px 1px rgba(60, 64, 67, 0.15);\n",
              "      fill: #174EA6;\n",
              "    }\n",
              "\n",
              "    [theme=dark] .colab-df-convert {\n",
              "      background-color: #3B4455;\n",
              "      fill: #D2E3FC;\n",
              "    }\n",
              "\n",
              "    [theme=dark] .colab-df-convert:hover {\n",
              "      background-color: #434B5C;\n",
              "      box-shadow: 0px 1px 3px 1px rgba(0, 0, 0, 0.15);\n",
              "      filter: drop-shadow(0px 1px 2px rgba(0, 0, 0, 0.3));\n",
              "      fill: #FFFFFF;\n",
              "    }\n",
              "  </style>\n",
              "\n",
              "      <script>\n",
              "        const buttonEl =\n",
              "          document.querySelector('#df-9dd6ba49-575f-4435-8783-5f491751af59 button.colab-df-convert');\n",
              "        buttonEl.style.display =\n",
              "          google.colab.kernel.accessAllowed ? 'block' : 'none';\n",
              "\n",
              "        async function convertToInteractive(key) {\n",
              "          const element = document.querySelector('#df-9dd6ba49-575f-4435-8783-5f491751af59');\n",
              "          const dataTable =\n",
              "            await google.colab.kernel.invokeFunction('convertToInteractive',\n",
              "                                                     [key], {});\n",
              "          if (!dataTable) return;\n",
              "\n",
              "          const docLinkHtml = 'Like what you see? Visit the ' +\n",
              "            '<a target=\"_blank\" href=https://colab.research.google.com/notebooks/data_table.ipynb>data table notebook</a>'\n",
              "            + ' to learn more about interactive tables.';\n",
              "          element.innerHTML = '';\n",
              "          dataTable['output_type'] = 'display_data';\n",
              "          await google.colab.output.renderOutput(dataTable, element);\n",
              "          const docLink = document.createElement('div');\n",
              "          docLink.innerHTML = docLinkHtml;\n",
              "          element.appendChild(docLink);\n",
              "        }\n",
              "      </script>\n",
              "    </div>\n",
              "  </div>\n",
              "  "
            ]
          },
          "metadata": {},
          "execution_count": 47
        }
      ]
    },
    {
      "cell_type": "code",
      "source": [
        "dataset.info()"
      ],
      "metadata": {
        "colab": {
          "base_uri": "https://localhost:8080/"
        },
        "id": "JkSYMtnQEP3d",
        "outputId": "40619dbc-b234-4c6e-8401-553786188e1c"
      },
      "execution_count": 48,
      "outputs": [
        {
          "output_type": "stream",
          "name": "stdout",
          "text": [
            "<class 'pandas.core.frame.DataFrame'>\n",
            "RangeIndex: 250 entries, 0 to 249\n",
            "Data columns (total 7 columns):\n",
            " #   Column     Non-Null Count  Dtype  \n",
            "---  ------     --------------  -----  \n",
            " 0   Date       250 non-null    object \n",
            " 1   Open       250 non-null    float64\n",
            " 2   High       250 non-null    float64\n",
            " 3   Low        250 non-null    float64\n",
            " 4   Close      250 non-null    float64\n",
            " 5   Adj Close  250 non-null    float64\n",
            " 6   Volume     250 non-null    int64  \n",
            "dtypes: float64(5), int64(1), object(1)\n",
            "memory usage: 13.8+ KB\n"
          ]
        }
      ]
    },
    {
      "cell_type": "code",
      "source": [
        "# Since the date column is of object data type.. let us convert it to datetime datatype.\n",
        "dataset = pd.read_csv(\"zomato.csv\",\n",
        "                      parse_dates=[\"Date\"],\n",
        "                      index_col=[\"Date\"])"
      ],
      "metadata": {
        "id": "dHRRPYNeEZgG"
      },
      "execution_count": 49,
      "outputs": []
    },
    {
      "cell_type": "code",
      "source": [
        "dataset.head()"
      ],
      "metadata": {
        "colab": {
          "base_uri": "https://localhost:8080/",
          "height": 238
        },
        "id": "Jw88zyXkLtWZ",
        "outputId": "db09aada-aaae-4b93-fd7c-ecbf3880853e"
      },
      "execution_count": 50,
      "outputs": [
        {
          "output_type": "execute_result",
          "data": {
            "text/plain": [
              "                  Open        High         Low       Close   Adj Close  \\\n",
              "Date                                                                     \n",
              "2021-08-24  127.250000  127.949997  120.500000  125.000000  125.000000   \n",
              "2021-08-25  126.000000  128.500000  123.099998  124.250000  124.250000   \n",
              "2021-08-26  125.250000  127.150002  124.349998  125.849998  125.849998   \n",
              "2021-08-27  126.599998  129.500000  124.099998  124.699997  124.699997   \n",
              "2021-08-30  127.849998  135.449997  127.550003  133.550003  133.550003   \n",
              "\n",
              "              Volume  \n",
              "Date                  \n",
              "2021-08-24  56713556  \n",
              "2021-08-25  51078811  \n",
              "2021-08-26  20645403  \n",
              "2021-08-27  22227595  \n",
              "2021-08-30  45239080  "
            ],
            "text/html": [
              "\n",
              "  <div id=\"df-ec317530-c775-47e2-981b-083e006e6c10\">\n",
              "    <div class=\"colab-df-container\">\n",
              "      <div>\n",
              "<style scoped>\n",
              "    .dataframe tbody tr th:only-of-type {\n",
              "        vertical-align: middle;\n",
              "    }\n",
              "\n",
              "    .dataframe tbody tr th {\n",
              "        vertical-align: top;\n",
              "    }\n",
              "\n",
              "    .dataframe thead th {\n",
              "        text-align: right;\n",
              "    }\n",
              "</style>\n",
              "<table border=\"1\" class=\"dataframe\">\n",
              "  <thead>\n",
              "    <tr style=\"text-align: right;\">\n",
              "      <th></th>\n",
              "      <th>Open</th>\n",
              "      <th>High</th>\n",
              "      <th>Low</th>\n",
              "      <th>Close</th>\n",
              "      <th>Adj Close</th>\n",
              "      <th>Volume</th>\n",
              "    </tr>\n",
              "    <tr>\n",
              "      <th>Date</th>\n",
              "      <th></th>\n",
              "      <th></th>\n",
              "      <th></th>\n",
              "      <th></th>\n",
              "      <th></th>\n",
              "      <th></th>\n",
              "    </tr>\n",
              "  </thead>\n",
              "  <tbody>\n",
              "    <tr>\n",
              "      <th>2021-08-24</th>\n",
              "      <td>127.250000</td>\n",
              "      <td>127.949997</td>\n",
              "      <td>120.500000</td>\n",
              "      <td>125.000000</td>\n",
              "      <td>125.000000</td>\n",
              "      <td>56713556</td>\n",
              "    </tr>\n",
              "    <tr>\n",
              "      <th>2021-08-25</th>\n",
              "      <td>126.000000</td>\n",
              "      <td>128.500000</td>\n",
              "      <td>123.099998</td>\n",
              "      <td>124.250000</td>\n",
              "      <td>124.250000</td>\n",
              "      <td>51078811</td>\n",
              "    </tr>\n",
              "    <tr>\n",
              "      <th>2021-08-26</th>\n",
              "      <td>125.250000</td>\n",
              "      <td>127.150002</td>\n",
              "      <td>124.349998</td>\n",
              "      <td>125.849998</td>\n",
              "      <td>125.849998</td>\n",
              "      <td>20645403</td>\n",
              "    </tr>\n",
              "    <tr>\n",
              "      <th>2021-08-27</th>\n",
              "      <td>126.599998</td>\n",
              "      <td>129.500000</td>\n",
              "      <td>124.099998</td>\n",
              "      <td>124.699997</td>\n",
              "      <td>124.699997</td>\n",
              "      <td>22227595</td>\n",
              "    </tr>\n",
              "    <tr>\n",
              "      <th>2021-08-30</th>\n",
              "      <td>127.849998</td>\n",
              "      <td>135.449997</td>\n",
              "      <td>127.550003</td>\n",
              "      <td>133.550003</td>\n",
              "      <td>133.550003</td>\n",
              "      <td>45239080</td>\n",
              "    </tr>\n",
              "  </tbody>\n",
              "</table>\n",
              "</div>\n",
              "      <button class=\"colab-df-convert\" onclick=\"convertToInteractive('df-ec317530-c775-47e2-981b-083e006e6c10')\"\n",
              "              title=\"Convert this dataframe to an interactive table.\"\n",
              "              style=\"display:none;\">\n",
              "        \n",
              "  <svg xmlns=\"http://www.w3.org/2000/svg\" height=\"24px\"viewBox=\"0 0 24 24\"\n",
              "       width=\"24px\">\n",
              "    <path d=\"M0 0h24v24H0V0z\" fill=\"none\"/>\n",
              "    <path d=\"M18.56 5.44l.94 2.06.94-2.06 2.06-.94-2.06-.94-.94-2.06-.94 2.06-2.06.94zm-11 1L8.5 8.5l.94-2.06 2.06-.94-2.06-.94L8.5 2.5l-.94 2.06-2.06.94zm10 10l.94 2.06.94-2.06 2.06-.94-2.06-.94-.94-2.06-.94 2.06-2.06.94z\"/><path d=\"M17.41 7.96l-1.37-1.37c-.4-.4-.92-.59-1.43-.59-.52 0-1.04.2-1.43.59L10.3 9.45l-7.72 7.72c-.78.78-.78 2.05 0 2.83L4 21.41c.39.39.9.59 1.41.59.51 0 1.02-.2 1.41-.59l7.78-7.78 2.81-2.81c.8-.78.8-2.07 0-2.86zM5.41 20L4 18.59l7.72-7.72 1.47 1.35L5.41 20z\"/>\n",
              "  </svg>\n",
              "      </button>\n",
              "      \n",
              "  <style>\n",
              "    .colab-df-container {\n",
              "      display:flex;\n",
              "      flex-wrap:wrap;\n",
              "      gap: 12px;\n",
              "    }\n",
              "\n",
              "    .colab-df-convert {\n",
              "      background-color: #E8F0FE;\n",
              "      border: none;\n",
              "      border-radius: 50%;\n",
              "      cursor: pointer;\n",
              "      display: none;\n",
              "      fill: #1967D2;\n",
              "      height: 32px;\n",
              "      padding: 0 0 0 0;\n",
              "      width: 32px;\n",
              "    }\n",
              "\n",
              "    .colab-df-convert:hover {\n",
              "      background-color: #E2EBFA;\n",
              "      box-shadow: 0px 1px 2px rgba(60, 64, 67, 0.3), 0px 1px 3px 1px rgba(60, 64, 67, 0.15);\n",
              "      fill: #174EA6;\n",
              "    }\n",
              "\n",
              "    [theme=dark] .colab-df-convert {\n",
              "      background-color: #3B4455;\n",
              "      fill: #D2E3FC;\n",
              "    }\n",
              "\n",
              "    [theme=dark] .colab-df-convert:hover {\n",
              "      background-color: #434B5C;\n",
              "      box-shadow: 0px 1px 3px 1px rgba(0, 0, 0, 0.15);\n",
              "      filter: drop-shadow(0px 1px 2px rgba(0, 0, 0, 0.3));\n",
              "      fill: #FFFFFF;\n",
              "    }\n",
              "  </style>\n",
              "\n",
              "      <script>\n",
              "        const buttonEl =\n",
              "          document.querySelector('#df-ec317530-c775-47e2-981b-083e006e6c10 button.colab-df-convert');\n",
              "        buttonEl.style.display =\n",
              "          google.colab.kernel.accessAllowed ? 'block' : 'none';\n",
              "\n",
              "        async function convertToInteractive(key) {\n",
              "          const element = document.querySelector('#df-ec317530-c775-47e2-981b-083e006e6c10');\n",
              "          const dataTable =\n",
              "            await google.colab.kernel.invokeFunction('convertToInteractive',\n",
              "                                                     [key], {});\n",
              "          if (!dataTable) return;\n",
              "\n",
              "          const docLinkHtml = 'Like what you see? Visit the ' +\n",
              "            '<a target=\"_blank\" href=https://colab.research.google.com/notebooks/data_table.ipynb>data table notebook</a>'\n",
              "            + ' to learn more about interactive tables.';\n",
              "          element.innerHTML = '';\n",
              "          dataTable['output_type'] = 'display_data';\n",
              "          await google.colab.output.renderOutput(dataTable, element);\n",
              "          const docLink = document.createElement('div');\n",
              "          docLink.innerHTML = docLinkHtml;\n",
              "          element.appendChild(docLink);\n",
              "        }\n",
              "      </script>\n",
              "    </div>\n",
              "  </div>\n",
              "  "
            ]
          },
          "metadata": {},
          "execution_count": 50
        }
      ]
    },
    {
      "cell_type": "markdown",
      "source": [
        "## Objective of the project\n",
        "\n",
        "In this project I want to predict the closing prices of Zomato Stocks for next 7 days.\n",
        "\n",
        "Since I want to deal with the closing prices only, so let us drop other columns.\n"
      ],
      "metadata": {
        "id": "QNvOzcxpL1Gt"
      }
    },
    {
      "cell_type": "code",
      "source": [
        "dataset.columns"
      ],
      "metadata": {
        "colab": {
          "base_uri": "https://localhost:8080/"
        },
        "id": "RFo-pVTCL-o7",
        "outputId": "8310b1d3-f8e6-4993-8ef5-4e319b9d9cc7"
      },
      "execution_count": 51,
      "outputs": [
        {
          "output_type": "execute_result",
          "data": {
            "text/plain": [
              "Index(['Open', 'High', 'Low', 'Close', 'Adj Close', 'Volume'], dtype='object')"
            ]
          },
          "metadata": {},
          "execution_count": 51
        }
      ]
    },
    {
      "cell_type": "code",
      "source": [
        "dataset = dataset.drop(columns=[\"Open\", \"High\", \"Low\", \"Adj Close\", \"Volume\"])"
      ],
      "metadata": {
        "id": "7jU4cEnMMtHe"
      },
      "execution_count": 52,
      "outputs": []
    },
    {
      "cell_type": "code",
      "source": [
        "dataset.head()"
      ],
      "metadata": {
        "colab": {
          "base_uri": "https://localhost:8080/",
          "height": 238
        },
        "id": "HMuUayZ7M2Uj",
        "outputId": "dd8572da-4207-4883-fd32-cf8064d82e54"
      },
      "execution_count": 53,
      "outputs": [
        {
          "output_type": "execute_result",
          "data": {
            "text/plain": [
              "                 Close\n",
              "Date                  \n",
              "2021-08-24  125.000000\n",
              "2021-08-25  124.250000\n",
              "2021-08-26  125.849998\n",
              "2021-08-27  124.699997\n",
              "2021-08-30  133.550003"
            ],
            "text/html": [
              "\n",
              "  <div id=\"df-3ea203ba-176f-416f-a2ff-a149340ddf15\">\n",
              "    <div class=\"colab-df-container\">\n",
              "      <div>\n",
              "<style scoped>\n",
              "    .dataframe tbody tr th:only-of-type {\n",
              "        vertical-align: middle;\n",
              "    }\n",
              "\n",
              "    .dataframe tbody tr th {\n",
              "        vertical-align: top;\n",
              "    }\n",
              "\n",
              "    .dataframe thead th {\n",
              "        text-align: right;\n",
              "    }\n",
              "</style>\n",
              "<table border=\"1\" class=\"dataframe\">\n",
              "  <thead>\n",
              "    <tr style=\"text-align: right;\">\n",
              "      <th></th>\n",
              "      <th>Close</th>\n",
              "    </tr>\n",
              "    <tr>\n",
              "      <th>Date</th>\n",
              "      <th></th>\n",
              "    </tr>\n",
              "  </thead>\n",
              "  <tbody>\n",
              "    <tr>\n",
              "      <th>2021-08-24</th>\n",
              "      <td>125.000000</td>\n",
              "    </tr>\n",
              "    <tr>\n",
              "      <th>2021-08-25</th>\n",
              "      <td>124.250000</td>\n",
              "    </tr>\n",
              "    <tr>\n",
              "      <th>2021-08-26</th>\n",
              "      <td>125.849998</td>\n",
              "    </tr>\n",
              "    <tr>\n",
              "      <th>2021-08-27</th>\n",
              "      <td>124.699997</td>\n",
              "    </tr>\n",
              "    <tr>\n",
              "      <th>2021-08-30</th>\n",
              "      <td>133.550003</td>\n",
              "    </tr>\n",
              "  </tbody>\n",
              "</table>\n",
              "</div>\n",
              "      <button class=\"colab-df-convert\" onclick=\"convertToInteractive('df-3ea203ba-176f-416f-a2ff-a149340ddf15')\"\n",
              "              title=\"Convert this dataframe to an interactive table.\"\n",
              "              style=\"display:none;\">\n",
              "        \n",
              "  <svg xmlns=\"http://www.w3.org/2000/svg\" height=\"24px\"viewBox=\"0 0 24 24\"\n",
              "       width=\"24px\">\n",
              "    <path d=\"M0 0h24v24H0V0z\" fill=\"none\"/>\n",
              "    <path d=\"M18.56 5.44l.94 2.06.94-2.06 2.06-.94-2.06-.94-.94-2.06-.94 2.06-2.06.94zm-11 1L8.5 8.5l.94-2.06 2.06-.94-2.06-.94L8.5 2.5l-.94 2.06-2.06.94zm10 10l.94 2.06.94-2.06 2.06-.94-2.06-.94-.94-2.06-.94 2.06-2.06.94z\"/><path d=\"M17.41 7.96l-1.37-1.37c-.4-.4-.92-.59-1.43-.59-.52 0-1.04.2-1.43.59L10.3 9.45l-7.72 7.72c-.78.78-.78 2.05 0 2.83L4 21.41c.39.39.9.59 1.41.59.51 0 1.02-.2 1.41-.59l7.78-7.78 2.81-2.81c.8-.78.8-2.07 0-2.86zM5.41 20L4 18.59l7.72-7.72 1.47 1.35L5.41 20z\"/>\n",
              "  </svg>\n",
              "      </button>\n",
              "      \n",
              "  <style>\n",
              "    .colab-df-container {\n",
              "      display:flex;\n",
              "      flex-wrap:wrap;\n",
              "      gap: 12px;\n",
              "    }\n",
              "\n",
              "    .colab-df-convert {\n",
              "      background-color: #E8F0FE;\n",
              "      border: none;\n",
              "      border-radius: 50%;\n",
              "      cursor: pointer;\n",
              "      display: none;\n",
              "      fill: #1967D2;\n",
              "      height: 32px;\n",
              "      padding: 0 0 0 0;\n",
              "      width: 32px;\n",
              "    }\n",
              "\n",
              "    .colab-df-convert:hover {\n",
              "      background-color: #E2EBFA;\n",
              "      box-shadow: 0px 1px 2px rgba(60, 64, 67, 0.3), 0px 1px 3px 1px rgba(60, 64, 67, 0.15);\n",
              "      fill: #174EA6;\n",
              "    }\n",
              "\n",
              "    [theme=dark] .colab-df-convert {\n",
              "      background-color: #3B4455;\n",
              "      fill: #D2E3FC;\n",
              "    }\n",
              "\n",
              "    [theme=dark] .colab-df-convert:hover {\n",
              "      background-color: #434B5C;\n",
              "      box-shadow: 0px 1px 3px 1px rgba(0, 0, 0, 0.15);\n",
              "      filter: drop-shadow(0px 1px 2px rgba(0, 0, 0, 0.3));\n",
              "      fill: #FFFFFF;\n",
              "    }\n",
              "  </style>\n",
              "\n",
              "      <script>\n",
              "        const buttonEl =\n",
              "          document.querySelector('#df-3ea203ba-176f-416f-a2ff-a149340ddf15 button.colab-df-convert');\n",
              "        buttonEl.style.display =\n",
              "          google.colab.kernel.accessAllowed ? 'block' : 'none';\n",
              "\n",
              "        async function convertToInteractive(key) {\n",
              "          const element = document.querySelector('#df-3ea203ba-176f-416f-a2ff-a149340ddf15');\n",
              "          const dataTable =\n",
              "            await google.colab.kernel.invokeFunction('convertToInteractive',\n",
              "                                                     [key], {});\n",
              "          if (!dataTable) return;\n",
              "\n",
              "          const docLinkHtml = 'Like what you see? Visit the ' +\n",
              "            '<a target=\"_blank\" href=https://colab.research.google.com/notebooks/data_table.ipynb>data table notebook</a>'\n",
              "            + ' to learn more about interactive tables.';\n",
              "          element.innerHTML = '';\n",
              "          dataTable['output_type'] = 'display_data';\n",
              "          await google.colab.output.renderOutput(dataTable, element);\n",
              "          const docLink = document.createElement('div');\n",
              "          docLink.innerHTML = docLinkHtml;\n",
              "          element.appendChild(docLink);\n",
              "        }\n",
              "      </script>\n",
              "    </div>\n",
              "  </div>\n",
              "  "
            ]
          },
          "metadata": {},
          "execution_count": 53
        }
      ]
    },
    {
      "cell_type": "code",
      "source": [
        "# Now let us plot these closing prices..\n",
        "plt.figure(figsize=(10,6))\n",
        "plt.plot(dataset.Close)\n",
        "plt.xlabel(\"Date\")\n",
        "plt.ylabel(\"Closing Prices\")\n",
        "plt.title(\"Zomato stocks closing price time series\")"
      ],
      "metadata": {
        "colab": {
          "base_uri": "https://localhost:8080/",
          "height": 421
        },
        "id": "7T9lF0nXM6pr",
        "outputId": "88704caa-0bfb-49f8-9e32-12277ee0e382"
      },
      "execution_count": 54,
      "outputs": [
        {
          "output_type": "execute_result",
          "data": {
            "text/plain": [
              "Text(0.5, 1.0, 'Zomato stocks closing price time series')"
            ]
          },
          "metadata": {},
          "execution_count": 54
        },
        {
          "output_type": "display_data",
          "data": {
            "text/plain": [
              "<Figure size 720x432 with 1 Axes>"
            ],
            "image/png": "[encoded data removed]"
          },
          "metadata": {
            "needs_background": "light"
          }
        }
      ]
    },
    {
      "cell_type": "code",
      "source": [
        "# Let us convert this time series problem into a supervised machine learning problem by windowing the dataset.\n",
        "# In the problem statement window size is not mentioned, hence I have presumed it to 30 days.\n",
        "# Hence I am using past 30 days of closing prices to predict the next 7 days of closing prices.\n",
        " \n",
        "HORIZON = 7\n",
        "WINDOW_SIZE = 30"
      ],
      "metadata": {
        "id": "22DVK6qeNdfB"
      },
      "execution_count": 55,
      "outputs": []
    },
    {
      "cell_type": "code",
      "source": [
        "# Let us create a function to label the windowed dataset.\n",
        "def get_labelled_windows(X, horizon):\n",
        "  return X[:, :-horizon], X[:, -horizon:]"
      ],
      "metadata": {
        "id": "qwFs1FU4jkqy"
      },
      "execution_count": 56,
      "outputs": []
    },
    {
      "cell_type": "code",
      "source": [
        "def make_windows(X, window_size=30, horizon=7):\n",
        "  \"\"\"This function will convert a 1D array into a 2D array of sequential windows of given window size\n",
        "  \"\"\"\n",
        "  # Create a window of specific window size (here we will add the horizon too which will be splitted later for labelleing)\n",
        "  window_step = np.expand_dims(np.arange(window_size + horizon), axis=0) \n",
        "  #print(window_step)\n",
        "\n",
        "  # Create a 2D array of multiple window steps..\n",
        "  window_indexes = window_step + np.expand_dims(np.arange(len(X) - (window_size+horizon-1)), axis=0).T\n",
        "  #print(window_indexes)\n",
        "\n",
        "  windowed_array = X[window_indexes]\n",
        "  #print(windowed_array)\n",
        "\n",
        "  # Now we will use get_labelled_windows function to split the windowed_array into windows and labels..\n",
        "  windows, labels = get_labelled_windows(windowed_array, horizon=horizon)\n",
        "\n",
        "  return windows, labels\n",
        "\n",
        " "
      ],
      "metadata": {
        "id": "OtMWwfeQtAYT"
      },
      "execution_count": 65,
      "outputs": []
    },
    {
      "cell_type": "code",
      "source": [
        "# Let us convert the timesteps and closing prices into numpy arrays.. then only we can do the numpy indexing.\n",
        "timesteps = dataset.index.to_numpy()\n",
        "closing_prices = dataset.Close.to_numpy()"
      ],
      "metadata": {
        "id": "oISFFCNf2s5l"
      },
      "execution_count": 66,
      "outputs": []
    },
    {
      "cell_type": "code",
      "source": [
        "full_windows, full_labels = make_windows(closing_prices)"
      ],
      "metadata": {
        "id": "vLlMobjcsUs2"
      },
      "execution_count": 67,
      "outputs": []
    },
    {
      "cell_type": "code",
      "source": [
        "# Check the length of full_windows and full_labels..\n",
        "len(full_windows), len(full_labels), len(dataset)"
      ],
      "metadata": {
        "id": "ew7qkz8-vvHf",
        "outputId": "c4faf563-72d7-41d0-856d-e116930ec5fa",
        "colab": {
          "base_uri": "https://localhost:8080/"
        }
      },
      "execution_count": 71,
      "outputs": [
        {
          "output_type": "execute_result",
          "data": {
            "text/plain": [
              "(214, 214, 250)"
            ]
          },
          "metadata": {},
          "execution_count": 71
        }
      ]
    },
    {
      "cell_type": "code",
      "source": [
        "# Let us check first 2 windows and labels..\n",
        "# Our full_windows and full_labels are in a 2D numpy array..\n",
        "\n",
        "for i in range(2):\n",
        "  print(f\"Window [{i+1}]    :\\n{full_windows[i]}\")\n",
        "  print(f\"Label [{i+1}]     :\\n{full_labels[i]}\")\n",
        "  print()"
      ],
      "metadata": {
        "id": "nb7FWSaXxHrk",
        "outputId": "dbc38422-2bbd-43b0-8c5e-03da1c182fc8",
        "colab": {
          "base_uri": "https://localhost:8080/"
        }
      },
      "execution_count": 70,
      "outputs": [
        {
          "output_type": "stream",
          "name": "stdout",
          "text": [
            "Window [1]    :\n",
            "[125.       124.25     125.849998 124.699997 133.550003 134.550003\n",
            " 132.600006 137.600006 149.75     144.050003 140.050003 141.25\n",
            " 141.600006 143.149994 144.100006 142.649994 142.050003 137.899994\n",
            " 134.300003 133.449997 132.100006 137.300003 136.649994 143.699997\n",
            " 139.       138.5      136.600006 138.       139.100006 137.949997]\n",
            "Label [1]     :\n",
            "[134.949997 137.100006 136.149994 136.850006 136.600006 135.449997\n",
            " 135.      ]\n",
            "\n",
            "Window [2]    :\n",
            "[124.25     125.849998 124.699997 133.550003 134.550003 132.600006\n",
            " 137.600006 149.75     144.050003 140.050003 141.25     141.600006\n",
            " 143.149994 144.100006 142.649994 142.050003 137.899994 134.300003\n",
            " 133.449997 132.100006 137.300003 136.649994 143.699997 139.\n",
            " 138.5      136.600006 138.       139.100006 137.949997 134.949997]\n",
            "Label [2]     :\n",
            "[137.100006 136.149994 136.850006 136.600006 135.449997 135.\n",
            " 144.050003]\n",
            "\n"
          ]
        }
      ]
    },
    {
      "cell_type": "code",
      "source": [
        "# Now let us divide our supervised machine learning turned dataset into train and test sets.\n",
        "# Since our dataset is very small hence we will use only 10% of the dataset into test dataset..\n",
        "\n",
        "split_size= 21\n",
        "train_windows = full_windows[:(1-split_size)]\n",
        "train_labels = full_labels[:(1-split_size)]\n",
        "\n",
        "test_windows = full_windows[(1-split_size):]\n",
        "test_labels = full_labels[(1-split_size):]\n"
      ],
      "metadata": {
        "id": "sq1tlBSQ3-1r"
      },
      "execution_count": 72,
      "outputs": []
    },
    {
      "cell_type": "code",
      "source": [
        "len(train_windows), len(train_labels), len(test_windows), len(test_labels)"
      ],
      "metadata": {
        "id": "4b6aEzoZ5iCI",
        "outputId": "37d65417-92d5-4714-dea2-12a5a843f167",
        "colab": {
          "base_uri": "https://localhost:8080/"
        }
      },
      "execution_count": 73,
      "outputs": [
        {
          "output_type": "execute_result",
          "data": {
            "text/plain": [
              "(194, 194, 20, 20)"
            ]
          },
          "metadata": {},
          "execution_count": 73
        }
      ]
    },
    {
      "cell_type": "markdown",
      "source": [
        "### Model Building\n",
        "\n",
        "Model_1 : Dense model\n",
        "  - Activation - Relu\n",
        "  - Units - 128\n",
        "  - Optimzer - Adam\n",
        "  - Loss - Mean Absolute Error\n",
        "  - Epochs = 100\n"
      ],
      "metadata": {
        "id": "faxbQ6t-5otg"
      }
    },
    {
      "cell_type": "code",
      "source": [
        "model_1 = tf.keras.Sequential([\n",
        "    layers.Dense(128, activation=\"relu\"),\n",
        "    layers.Dense(7)\n",
        "    ])\n",
        "\n",
        "# Compile the model\n",
        "model_1.compile(loss=tf.keras.metrics.mean_absolute_error,\n",
        "                optimizer=tf.keras.optimizers.Adam(),\n",
        "                metrics=\"mae\")"
      ],
      "metadata": {
        "id": "_zQXGoTk549U"
      },
      "execution_count": 79,
      "outputs": []
    },
    {
      "cell_type": "code",
      "source": [
        "# Now fit the data into the model..\n",
        "model_1.fit(x = train_windows,\n",
        "            y = train_labels,\n",
        "            epochs = 100,\n",
        "            validation_data = (test_windows, test_labels))"
      ],
      "metadata": {
        "id": "ZUswSwsK7daO",
        "outputId": "1f762615-2b23-48d4-9481-c9571d4c02f2",
        "colab": {
          "base_uri": "https://localhost:8080/"
        }
      },
      "execution_count": 80,
      "outputs": [
        {
          "output_type": "stream",
          "name": "stdout",
          "text": [
            "Epoch 1/100\n",
            "7/7 [==============================] - 1s 41ms/step - loss: 88.6310 - mae: 88.6310 - val_loss: 26.8401 - val_mae: 26.8401\n",
            "Epoch 2/100\n",
            "7/7 [==============================] - 0s 7ms/step - loss: 36.1790 - mae: 36.1790 - val_loss: 14.9133 - val_mae: 14.9133\n",
            "Epoch 3/100\n",
            "7/7 [==============================] - 0s 6ms/step - loss: 18.9359 - mae: 18.9359 - val_loss: 8.6088 - val_mae: 8.6088\n",
            "Epoch 4/100\n",
            "7/7 [==============================] - 0s 6ms/step - loss: 16.4538 - mae: 16.4538 - val_loss: 8.1778 - val_mae: 8.1778\n",
            "Epoch 5/100\n",
            "7/7 [==============================] - 0s 6ms/step - loss: 12.8630 - mae: 12.8630 - val_loss: 8.4438 - val_mae: 8.4438\n",
            "Epoch 6/100\n",
            "7/7 [==============================] - 0s 6ms/step - loss: 11.5407 - mae: 11.5407 - val_loss: 8.4325 - val_mae: 8.4325\n",
            "Epoch 7/100\n",
            "7/7 [==============================] - 0s 6ms/step - loss: 11.2221 - mae: 11.2221 - val_loss: 7.4958 - val_mae: 7.4958\n",
            "Epoch 8/100\n",
            "7/7 [==============================] - 0s 6ms/step - loss: 10.5580 - mae: 10.5580 - val_loss: 7.6773 - val_mae: 7.6773\n",
            "Epoch 9/100\n",
            "7/7 [==============================] - 0s 6ms/step - loss: 9.9804 - mae: 9.9804 - val_loss: 7.5195 - val_mae: 7.5195\n",
            "Epoch 10/100\n",
            "7/7 [==============================] - 0s 6ms/step - loss: 9.8309 - mae: 9.8309 - val_loss: 7.4748 - val_mae: 7.4748\n",
            "Epoch 11/100\n",
            "7/7 [==============================] - 0s 7ms/step - loss: 9.7012 - mae: 9.7012 - val_loss: 7.3728 - val_mae: 7.3728\n",
            "Epoch 12/100\n",
            "7/7 [==============================] - 0s 6ms/step - loss: 9.6309 - mae: 9.6309 - val_loss: 7.4131 - val_mae: 7.4131\n",
            "Epoch 13/100\n",
            "7/7 [==============================] - 0s 6ms/step - loss: 9.2956 - mae: 9.2956 - val_loss: 7.4278 - val_mae: 7.4278\n",
            "Epoch 14/100\n",
            "7/7 [==============================] - 0s 8ms/step - loss: 9.2864 - mae: 9.2864 - val_loss: 7.2199 - val_mae: 7.2199\n",
            "Epoch 15/100\n",
            "7/7 [==============================] - 0s 6ms/step - loss: 9.5915 - mae: 9.5915 - val_loss: 7.2577 - val_mae: 7.2577\n",
            "Epoch 16/100\n",
            "7/7 [==============================] - 0s 6ms/step - loss: 8.9151 - mae: 8.9151 - val_loss: 7.4400 - val_mae: 7.4400\n",
            "Epoch 17/100\n",
            "7/7 [==============================] - 0s 7ms/step - loss: 9.0886 - mae: 9.0886 - val_loss: 7.2733 - val_mae: 7.2733\n",
            "Epoch 18/100\n",
            "7/7 [==============================] - 0s 7ms/step - loss: 9.2088 - mae: 9.2088 - val_loss: 7.1637 - val_mae: 7.1637\n",
            "Epoch 19/100\n",
            "7/7 [==============================] - 0s 8ms/step - loss: 8.6966 - mae: 8.6966 - val_loss: 7.4586 - val_mae: 7.4586\n",
            "Epoch 20/100\n",
            "7/7 [==============================] - 0s 8ms/step - loss: 8.7327 - mae: 8.7327 - val_loss: 7.3456 - val_mae: 7.3456\n",
            "Epoch 21/100\n",
            "7/7 [==============================] - 0s 6ms/step - loss: 8.9602 - mae: 8.9602 - val_loss: 7.4502 - val_mae: 7.4502\n",
            "Epoch 22/100\n",
            "7/7 [==============================] - 0s 7ms/step - loss: 8.4329 - mae: 8.4329 - val_loss: 7.1777 - val_mae: 7.1777\n",
            "Epoch 23/100\n",
            "7/7 [==============================] - 0s 7ms/step - loss: 8.2642 - mae: 8.2642 - val_loss: 7.2202 - val_mae: 7.2202\n",
            "Epoch 24/100\n",
            "7/7 [==============================] - 0s 6ms/step - loss: 8.2419 - mae: 8.2419 - val_loss: 7.1673 - val_mae: 7.1673\n",
            "Epoch 25/100\n",
            "7/7 [==============================] - 0s 6ms/step - loss: 8.3580 - mae: 8.3580 - val_loss: 7.2747 - val_mae: 7.2747\n",
            "Epoch 26/100\n",
            "7/7 [==============================] - 0s 6ms/step - loss: 7.7940 - mae: 7.7940 - val_loss: 7.0989 - val_mae: 7.0989\n",
            "Epoch 27/100\n",
            "7/7 [==============================] - 0s 6ms/step - loss: 7.7516 - mae: 7.7516 - val_loss: 7.2109 - val_mae: 7.2109\n",
            "Epoch 28/100\n",
            "7/7 [==============================] - 0s 6ms/step - loss: 8.0469 - mae: 8.0469 - val_loss: 7.3383 - val_mae: 7.3383\n",
            "Epoch 29/100\n",
            "7/7 [==============================] - 0s 7ms/step - loss: 7.7367 - mae: 7.7367 - val_loss: 7.3813 - val_mae: 7.3813\n",
            "Epoch 30/100\n",
            "7/7 [==============================] - 0s 6ms/step - loss: 7.7968 - mae: 7.7968 - val_loss: 7.4593 - val_mae: 7.4593\n",
            "Epoch 31/100\n",
            "7/7 [==============================] - 0s 9ms/step - loss: 7.6418 - mae: 7.6418 - val_loss: 7.5566 - val_mae: 7.5566\n",
            "Epoch 32/100\n",
            "7/7 [==============================] - 0s 8ms/step - loss: 7.7998 - mae: 7.7998 - val_loss: 7.1183 - val_mae: 7.1183\n",
            "Epoch 33/100\n",
            "7/7 [==============================] - 0s 7ms/step - loss: 7.5048 - mae: 7.5048 - val_loss: 7.0996 - val_mae: 7.0996\n",
            "Epoch 34/100\n",
            "7/7 [==============================] - 0s 7ms/step - loss: 7.3664 - mae: 7.3664 - val_loss: 7.5543 - val_mae: 7.5543\n",
            "Epoch 35/100\n",
            "7/7 [==============================] - 0s 6ms/step - loss: 7.3033 - mae: 7.3033 - val_loss: 7.0748 - val_mae: 7.0748\n",
            "Epoch 36/100\n",
            "7/7 [==============================] - 0s 6ms/step - loss: 7.3417 - mae: 7.3417 - val_loss: 6.9796 - val_mae: 6.9796\n",
            "Epoch 37/100\n",
            "7/7 [==============================] - 0s 7ms/step - loss: 7.3599 - mae: 7.3599 - val_loss: 7.9452 - val_mae: 7.9452\n",
            "Epoch 38/100\n",
            "7/7 [==============================] - 0s 7ms/step - loss: 7.4777 - mae: 7.4777 - val_loss: 7.1922 - val_mae: 7.1922\n",
            "Epoch 39/100\n",
            "7/7 [==============================] - 0s 8ms/step - loss: 7.1734 - mae: 7.1734 - val_loss: 7.2505 - val_mae: 7.2505\n",
            "Epoch 40/100\n",
            "7/7 [==============================] - 0s 6ms/step - loss: 7.7944 - mae: 7.7944 - val_loss: 8.1563 - val_mae: 8.1563\n",
            "Epoch 41/100\n",
            "7/7 [==============================] - 0s 6ms/step - loss: 7.9842 - mae: 7.9842 - val_loss: 7.1766 - val_mae: 7.1766\n",
            "Epoch 42/100\n",
            "7/7 [==============================] - 0s 6ms/step - loss: 7.0515 - mae: 7.0515 - val_loss: 6.9974 - val_mae: 6.9974\n",
            "Epoch 43/100\n",
            "7/7 [==============================] - 0s 7ms/step - loss: 7.3336 - mae: 7.3336 - val_loss: 7.4223 - val_mae: 7.4223\n",
            "Epoch 44/100\n",
            "7/7 [==============================] - 0s 7ms/step - loss: 6.7658 - mae: 6.7658 - val_loss: 7.4937 - val_mae: 7.4937\n",
            "Epoch 45/100\n",
            "7/7 [==============================] - 0s 8ms/step - loss: 6.8796 - mae: 6.8796 - val_loss: 7.2515 - val_mae: 7.2515\n",
            "Epoch 46/100\n",
            "7/7 [==============================] - 0s 6ms/step - loss: 6.9211 - mae: 6.9211 - val_loss: 7.1299 - val_mae: 7.1299\n",
            "Epoch 47/100\n",
            "7/7 [==============================] - 0s 7ms/step - loss: 6.7608 - mae: 6.7608 - val_loss: 8.0111 - val_mae: 8.0111\n",
            "Epoch 48/100\n",
            "7/7 [==============================] - 0s 7ms/step - loss: 7.8127 - mae: 7.8127 - val_loss: 6.8774 - val_mae: 6.8774\n",
            "Epoch 49/100\n",
            "7/7 [==============================] - 0s 7ms/step - loss: 6.7650 - mae: 6.7650 - val_loss: 7.3373 - val_mae: 7.3373\n",
            "Epoch 50/100\n",
            "7/7 [==============================] - 0s 6ms/step - loss: 7.2314 - mae: 7.2314 - val_loss: 7.6283 - val_mae: 7.6283\n",
            "Epoch 51/100\n",
            "7/7 [==============================] - 0s 6ms/step - loss: 7.1509 - mae: 7.1509 - val_loss: 7.3020 - val_mae: 7.3020\n",
            "Epoch 52/100\n",
            "7/7 [==============================] - 0s 6ms/step - loss: 6.7413 - mae: 6.7413 - val_loss: 7.4186 - val_mae: 7.4186\n",
            "Epoch 53/100\n",
            "7/7 [==============================] - 0s 6ms/step - loss: 6.7836 - mae: 6.7836 - val_loss: 7.3907 - val_mae: 7.3907\n",
            "Epoch 54/100\n",
            "7/7 [==============================] - 0s 6ms/step - loss: 6.7356 - mae: 6.7356 - val_loss: 7.0392 - val_mae: 7.0392\n",
            "Epoch 55/100\n",
            "7/7 [==============================] - 0s 6ms/step - loss: 6.4095 - mae: 6.4095 - val_loss: 7.2898 - val_mae: 7.2898\n",
            "Epoch 56/100\n",
            "7/7 [==============================] - 0s 6ms/step - loss: 6.4263 - mae: 6.4263 - val_loss: 7.2888 - val_mae: 7.2888\n",
            "Epoch 57/100\n",
            "7/7 [==============================] - 0s 6ms/step - loss: 6.8534 - mae: 6.8534 - val_loss: 7.8154 - val_mae: 7.8154\n",
            "Epoch 58/100\n",
            "7/7 [==============================] - 0s 7ms/step - loss: 6.8758 - mae: 6.8758 - val_loss: 7.0087 - val_mae: 7.0087\n",
            "Epoch 59/100\n",
            "7/7 [==============================] - 0s 8ms/step - loss: 6.7139 - mae: 6.7139 - val_loss: 7.2161 - val_mae: 7.2161\n",
            "Epoch 60/100\n",
            "7/7 [==============================] - 0s 6ms/step - loss: 6.6136 - mae: 6.6136 - val_loss: 7.6160 - val_mae: 7.6160\n",
            "Epoch 61/100\n",
            "7/7 [==============================] - 0s 6ms/step - loss: 6.4761 - mae: 6.4761 - val_loss: 7.8974 - val_mae: 7.8974\n",
            "Epoch 62/100\n",
            "7/7 [==============================] - 0s 6ms/step - loss: 7.2124 - mae: 7.2124 - val_loss: 6.9414 - val_mae: 6.9414\n",
            "Epoch 63/100\n",
            "7/7 [==============================] - 0s 6ms/step - loss: 7.0026 - mae: 7.0026 - val_loss: 7.6380 - val_mae: 7.6380\n",
            "Epoch 64/100\n",
            "7/7 [==============================] - 0s 7ms/step - loss: 6.8882 - mae: 6.8882 - val_loss: 6.9191 - val_mae: 6.9191\n",
            "Epoch 65/100\n",
            "7/7 [==============================] - 0s 6ms/step - loss: 6.6274 - mae: 6.6274 - val_loss: 7.3653 - val_mae: 7.3653\n",
            "Epoch 66/100\n",
            "7/7 [==============================] - 0s 7ms/step - loss: 6.4849 - mae: 6.4849 - val_loss: 7.3018 - val_mae: 7.3018\n",
            "Epoch 67/100\n",
            "7/7 [==============================] - 0s 7ms/step - loss: 6.3821 - mae: 6.3821 - val_loss: 6.8571 - val_mae: 6.8571\n",
            "Epoch 68/100\n",
            "7/7 [==============================] - 0s 8ms/step - loss: 6.3157 - mae: 6.3157 - val_loss: 7.3472 - val_mae: 7.3472\n",
            "Epoch 69/100\n",
            "7/7 [==============================] - 0s 7ms/step - loss: 6.1210 - mae: 6.1210 - val_loss: 7.2976 - val_mae: 7.2976\n",
            "Epoch 70/100\n",
            "7/7 [==============================] - 0s 6ms/step - loss: 6.5729 - mae: 6.5729 - val_loss: 6.5874 - val_mae: 6.5874\n",
            "Epoch 71/100\n",
            "7/7 [==============================] - 0s 7ms/step - loss: 7.6667 - mae: 7.6667 - val_loss: 7.4056 - val_mae: 7.4056\n",
            "Epoch 72/100\n",
            "7/7 [==============================] - 0s 6ms/step - loss: 6.5534 - mae: 6.5534 - val_loss: 7.9709 - val_mae: 7.9709\n",
            "Epoch 73/100\n",
            "7/7 [==============================] - 0s 7ms/step - loss: 7.3707 - mae: 7.3707 - val_loss: 7.0609 - val_mae: 7.0609\n",
            "Epoch 74/100\n",
            "7/7 [==============================] - 0s 6ms/step - loss: 6.4823 - mae: 6.4823 - val_loss: 7.1414 - val_mae: 7.1414\n",
            "Epoch 75/100\n",
            "7/7 [==============================] - 0s 6ms/step - loss: 6.0586 - mae: 6.0586 - val_loss: 6.8099 - val_mae: 6.8099\n",
            "Epoch 76/100\n",
            "7/7 [==============================] - 0s 6ms/step - loss: 6.4112 - mae: 6.4112 - val_loss: 7.2307 - val_mae: 7.2307\n",
            "Epoch 77/100\n",
            "7/7 [==============================] - 0s 6ms/step - loss: 6.1592 - mae: 6.1592 - val_loss: 6.8195 - val_mae: 6.8195\n",
            "Epoch 78/100\n",
            "7/7 [==============================] - 0s 8ms/step - loss: 6.5082 - mae: 6.5082 - val_loss: 7.4212 - val_mae: 7.4212\n",
            "Epoch 79/100\n",
            "7/7 [==============================] - 0s 6ms/step - loss: 6.2017 - mae: 6.2017 - val_loss: 7.3401 - val_mae: 7.3401\n",
            "Epoch 80/100\n",
            "7/7 [==============================] - 0s 6ms/step - loss: 6.3337 - mae: 6.3337 - val_loss: 7.4807 - val_mae: 7.4807\n",
            "Epoch 81/100\n",
            "7/7 [==============================] - 0s 6ms/step - loss: 6.3567 - mae: 6.3567 - val_loss: 7.0037 - val_mae: 7.0037\n",
            "Epoch 82/100\n",
            "7/7 [==============================] - 0s 6ms/step - loss: 6.4948 - mae: 6.4948 - val_loss: 6.7747 - val_mae: 6.7747\n",
            "Epoch 83/100\n",
            "7/7 [==============================] - 0s 7ms/step - loss: 6.3091 - mae: 6.3091 - val_loss: 7.2004 - val_mae: 7.2004\n",
            "Epoch 84/100\n",
            "7/7 [==============================] - 0s 6ms/step - loss: 6.1306 - mae: 6.1306 - val_loss: 7.2533 - val_mae: 7.2533\n",
            "Epoch 85/100\n",
            "7/7 [==============================] - 0s 6ms/step - loss: 6.1876 - mae: 6.1876 - val_loss: 7.0129 - val_mae: 7.0129\n",
            "Epoch 86/100\n",
            "7/7 [==============================] - 0s 6ms/step - loss: 6.0270 - mae: 6.0270 - val_loss: 7.2823 - val_mae: 7.2823\n",
            "Epoch 87/100\n",
            "7/7 [==============================] - 0s 6ms/step - loss: 6.1075 - mae: 6.1075 - val_loss: 6.9773 - val_mae: 6.9773\n",
            "Epoch 88/100\n",
            "7/7 [==============================] - 0s 7ms/step - loss: 6.4269 - mae: 6.4269 - val_loss: 7.0203 - val_mae: 7.0203\n",
            "Epoch 89/100\n",
            "7/7 [==============================] - 0s 6ms/step - loss: 6.0500 - mae: 6.0500 - val_loss: 7.0329 - val_mae: 7.0329\n",
            "Epoch 90/100\n",
            "7/7 [==============================] - 0s 6ms/step - loss: 5.8111 - mae: 5.8111 - val_loss: 7.1936 - val_mae: 7.1936\n",
            "Epoch 91/100\n",
            "7/7 [==============================] - 0s 7ms/step - loss: 5.9867 - mae: 5.9867 - val_loss: 7.1771 - val_mae: 7.1771\n",
            "Epoch 92/100\n",
            "7/7 [==============================] - 0s 7ms/step - loss: 6.0603 - mae: 6.0603 - val_loss: 6.9821 - val_mae: 6.9821\n",
            "Epoch 93/100\n",
            "7/7 [==============================] - 0s 8ms/step - loss: 5.7317 - mae: 5.7317 - val_loss: 6.7897 - val_mae: 6.7897\n",
            "Epoch 94/100\n",
            "7/7 [==============================] - 0s 7ms/step - loss: 6.5108 - mae: 6.5108 - val_loss: 7.2984 - val_mae: 7.2984\n",
            "Epoch 95/100\n",
            "7/7 [==============================] - 0s 6ms/step - loss: 5.9961 - mae: 5.9961 - val_loss: 7.0680 - val_mae: 7.0680\n",
            "Epoch 96/100\n",
            "7/7 [==============================] - 0s 6ms/step - loss: 5.8285 - mae: 5.8285 - val_loss: 7.1584 - val_mae: 7.1584\n",
            "Epoch 97/100\n",
            "7/7 [==============================] - 0s 6ms/step - loss: 6.1266 - mae: 6.1266 - val_loss: 7.0695 - val_mae: 7.0695\n",
            "Epoch 98/100\n",
            "7/7 [==============================] - 0s 7ms/step - loss: 5.8494 - mae: 5.8494 - val_loss: 6.7142 - val_mae: 6.7142\n",
            "Epoch 99/100\n",
            "7/7 [==============================] - 0s 6ms/step - loss: 5.9678 - mae: 5.9678 - val_loss: 7.1882 - val_mae: 7.1882\n",
            "Epoch 100/100\n",
            "7/7 [==============================] - 0s 6ms/step - loss: 5.8697 - mae: 5.8697 - val_loss: 7.1333 - val_mae: 7.1333\n"
          ]
        },
        {
          "output_type": "execute_result",
          "data": {
            "text/plain": [
              "<keras.callbacks.History at 0x7fcc97f1b050>"
            ]
          },
          "metadata": {},
          "execution_count": 80
        }
      ]
    },
    {
      "cell_type": "code",
      "source": [
        "model_1.evaluate(test_windows, test_labels)"
      ],
      "metadata": {
        "id": "LnHcqlfM8GeT",
        "outputId": "4fdb4959-296a-47c6-85e7-2bdc02b19601",
        "colab": {
          "base_uri": "https://localhost:8080/"
        }
      },
      "execution_count": 81,
      "outputs": [
        {
          "output_type": "stream",
          "name": "stdout",
          "text": [
            "1/1 [==============================] - 0s 25ms/step - loss: 7.1333 - mae: 7.1333\n"
          ]
        },
        {
          "output_type": "execute_result",
          "data": {
            "text/plain": [
              "[7.133284091949463, 7.133284091949463]"
            ]
          },
          "metadata": {},
          "execution_count": 81
        }
      ]
    },
    {
      "cell_type": "code",
      "source": [
        "# Let us do some predictions on test dataset using model_1\n",
        "y_pred = model_1.predict(test_windows)"
      ],
      "metadata": {
        "id": "kdShrZkh8Szn"
      },
      "execution_count": 82,
      "outputs": []
    },
    {
      "cell_type": "code",
      "source": [
        "test_labels.shape, y_pred.shape"
      ],
      "metadata": {
        "id": "XMC_7z6q8kTJ",
        "outputId": "42595b3f-3ef7-45f9-92b3-d06327b73644",
        "colab": {
          "base_uri": "https://localhost:8080/"
        }
      },
      "execution_count": 83,
      "outputs": [
        {
          "output_type": "execute_result",
          "data": {
            "text/plain": [
              "((20, 7), (20, 7))"
            ]
          },
          "metadata": {},
          "execution_count": 83
        }
      ]
    },
    {
      "cell_type": "code",
      "source": [
        "# Check the mean absolute error and root mean squared errors losses..\n",
        "mae = mean_absolute_error(y_pred, test_labels)\n",
        "rmse = np.sqrt(mean_squared_error(y_pred, test_labels))"
      ],
      "metadata": {
        "id": "gdMeQ3Tp8oTn"
      },
      "execution_count": 87,
      "outputs": []
    },
    {
      "cell_type": "code",
      "source": [
        "mae, rmse"
      ],
      "metadata": {
        "id": "cFf5tmX39K8h",
        "outputId": "abc98e5c-f259-4d98-8623-0183516bd5d1",
        "colab": {
          "base_uri": "https://localhost:8080/"
        }
      },
      "execution_count": 88,
      "outputs": [
        {
          "output_type": "execute_result",
          "data": {
            "text/plain": [
              "(7.133284096153041, 8.145350501558738)"
            ]
          },
          "metadata": {},
          "execution_count": 88
        }
      ]
    },
    {
      "cell_type": "code",
      "source": [
        "test_labels[:10]"
      ],
      "metadata": {
        "id": "BrpJyEr59tfS",
        "outputId": "29bc8410-3d53-4f22-8c4b-1e2964401391",
        "colab": {
          "base_uri": "https://localhost:8080/"
        }
      },
      "execution_count": 90,
      "outputs": [
        {
          "output_type": "execute_result",
          "data": {
            "text/plain": [
              "array([[53.599998, 53.950001, 53.400002, 53.5     , 53.650002, 47.599998,\n",
              "        41.650002],\n",
              "       [53.950001, 53.400002, 53.5     , 53.650002, 47.599998, 41.650002,\n",
              "        43.950001],\n",
              "       [53.400002, 53.5     , 53.650002, 47.599998, 41.650002, 43.950001,\n",
              "        45.700001],\n",
              "       [53.5     , 53.650002, 47.599998, 41.650002, 43.950001, 45.700001,\n",
              "        46.799999],\n",
              "       [53.650002, 47.599998, 41.650002, 43.950001, 45.700001, 46.799999,\n",
              "        46.299999],\n",
              "       [47.599998, 41.650002, 43.950001, 45.700001, 46.799999, 46.299999,\n",
              "        55.549999],\n",
              "       [41.650002, 43.950001, 45.700001, 46.799999, 46.299999, 55.549999,\n",
              "        55.450001],\n",
              "       [43.950001, 45.700001, 46.799999, 46.299999, 55.549999, 55.450001,\n",
              "        57.849998],\n",
              "       [45.700001, 46.799999, 46.299999, 55.549999, 55.450001, 57.849998,\n",
              "        54.599998],\n",
              "       [46.799999, 46.299999, 55.549999, 55.450001, 57.849998, 54.599998,\n",
              "        55.450001]])"
            ]
          },
          "metadata": {},
          "execution_count": 90
        }
      ]
    },
    {
      "cell_type": "code",
      "source": [
        "y_pred[:10]"
      ],
      "metadata": {
        "id": "jed15okO9xkc",
        "outputId": "8d2ea0d1-fc95-4ad1-834d-467fe729761a",
        "colab": {
          "base_uri": "https://localhost:8080/"
        }
      },
      "execution_count": 91,
      "outputs": [
        {
          "output_type": "execute_result",
          "data": {
            "text/plain": [
              "array([[52.082035, 50.59382 , 55.20683 , 57.18495 , 56.583176, 55.61819 ,\n",
              "        55.351727],\n",
              "       [52.2464  , 52.779804, 54.9609  , 55.41266 , 55.919567, 53.76408 ,\n",
              "        55.859947],\n",
              "       [51.475483, 52.437748, 53.855576, 55.07219 , 55.14522 , 52.05023 ,\n",
              "        55.66285 ],\n",
              "       [52.475204, 52.035225, 54.038177, 54.323956, 53.732334, 50.41329 ,\n",
              "        55.63104 ],\n",
              "       [52.421257, 50.727024, 54.325775, 55.819183, 52.201664, 50.639515,\n",
              "        55.415462],\n",
              "       [52.000668, 50.490223, 55.530407, 55.05378 , 50.953106, 51.486183,\n",
              "        54.540134],\n",
              "       [49.000286, 48.58152 , 53.075207, 52.737305, 51.21321 , 52.67706 ,\n",
              "        52.88517 ],\n",
              "       [43.936066, 44.608326, 50.83571 , 51.405407, 50.573055, 50.85521 ,\n",
              "        49.314995],\n",
              "       [43.020626, 44.236652, 48.771873, 47.918056, 47.567795, 47.367702,\n",
              "        47.202374],\n",
              "       [42.74977 , 44.804943, 47.955574, 48.73679 , 47.56531 , 45.03796 ,\n",
              "        47.12945 ]], dtype=float32)"
            ]
          },
          "metadata": {},
          "execution_count": 91
        }
      ]
    },
    {
      "cell_type": "markdown",
      "source": [
        "**Conclusion**\n",
        "\n",
        "In this project I had to load the Zomato Limited's stock price's historical dataset and had to predict the closing prices of the stocks for next 7 days.\n",
        "\n",
        "Here I have used a window size of 30 days and using this past 30 days of data I have tried to predict next 7 days of closing prices of the above said company.\n",
        "\n",
        "I have used a very simple deep learning model of 1 hidden layer with 128 number of neurons and ran this model for 100 epochs. I have got the mean absolute error of around Rs 7/- and root mean squared error of around Rs 8/-.\n",
        "\n",
        "A lot can be done here, but I am stopping my analysis here only."
      ],
      "metadata": {
        "id": "myMUNCQt91D-"
      }
    },
    {
      "cell_type": "code",
      "source": [
        ""
      ],
      "metadata": {
        "id": "JDO_iUmk_mTm"
      },
      "execution_count": null,
      "outputs": []
    }
  ]
}